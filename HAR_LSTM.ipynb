{
 "cells": [
  {
   "cell_type": "code",
   "execution_count": 1,
   "metadata": {},
   "outputs": [],
   "source": [
    "import warnings\n",
    "warnings.filterwarnings(\"ignore\")\n",
    "\n",
    "import pandas as pd\n",
    "import numpy as np"
   ]
  },
  {
   "cell_type": "code",
   "execution_count": 2,
   "metadata": {},
   "outputs": [],
   "source": [
    "# Activities are the class labels\n",
    "# It is a 6 class classification\n",
    "ACTIVITIES = {\n",
    "    0: 'WALKING',\n",
    "    1: 'WALKING_UPSTAIRS',\n",
    "    2: 'WALKING_DOWNSTAIRS',\n",
    "    3: 'SITTING',\n",
    "    4: 'STANDING',\n",
    "    5: 'LAYING',\n",
    "}\n",
    "\n",
    "# Utility function to print the confusion matrix\n",
    "def confusion_matrix(Y_true, Y_pred):\n",
    "    Y_true = pd.Series([ACTIVITIES[y] for y in np.argmax(Y_true, axis=1)])\n",
    "    Y_pred = pd.Series([ACTIVITIES[y] for y in np.argmax(Y_pred, axis=1)])\n",
    "\n",
    "    return pd.crosstab(Y_true, Y_pred, rownames=['True'], colnames=['Pred'])"
   ]
  },
  {
   "cell_type": "markdown",
   "metadata": {},
   "source": [
    "### Data"
   ]
  },
  {
   "cell_type": "code",
   "execution_count": 3,
   "metadata": {},
   "outputs": [],
   "source": [
    "# Data directory\n",
    "DATADIR = 'UCI_HAR_Dataset'"
   ]
  },
  {
   "cell_type": "code",
   "execution_count": 4,
   "metadata": {},
   "outputs": [],
   "source": [
    "# Utility function to read the data from csv file\n",
    "def _read_csv(filename):\n",
    "    return pd.read_csv(filename, delim_whitespace=True, header=None)"
   ]
  },
  {
   "cell_type": "markdown",
   "metadata": {},
   "source": [
    "#### Loading X_train and X_test"
   ]
  },
  {
   "cell_type": "code",
   "execution_count": 5,
   "metadata": {},
   "outputs": [],
   "source": [
    "#Loading the train data for X_train\n",
    "tr_1 = 'UCI_HAR_Dataset/train/Inertial Signals/body_acc_x_train.txt'\n",
    "tr_2 = 'UCI_HAR_Dataset/train/Inertial Signals/body_acc_y_train.txt'\n",
    "tr_3 = 'UCI_HAR_Dataset/train/Inertial Signals/body_acc_z_train.txt'\n",
    "tr_4 = 'UCI_HAR_Dataset/train/Inertial Signals/body_gyro_x_train.txt'\n",
    "tr_5 = 'UCI_HAR_Dataset/train/Inertial Signals/body_gyro_y_train.txt'\n",
    "tr_6 = 'UCI_HAR_Dataset/train/Inertial Signals/body_gyro_z_train.txt'\n",
    "tr_7 = 'UCI_HAR_Dataset/train/Inertial Signals/total_acc_x_train.txt'\n",
    "tr_8 = 'UCI_HAR_Dataset/train/Inertial Signals/total_acc_y_train.txt'\n",
    "tr_9 = 'UCI_HAR_Dataset/train/Inertial Signals/total_acc_z_train.txt'"
   ]
  },
  {
   "cell_type": "code",
   "execution_count": 6,
   "metadata": {},
   "outputs": [],
   "source": [
    "signals_data = []\n",
    "\n",
    "signals_data.append(_read_csv(tr_1).as_matrix())\n",
    "signals_data.append(_read_csv(tr_2).as_matrix())\n",
    "signals_data.append(_read_csv(tr_3).as_matrix())\n",
    "signals_data.append(_read_csv(tr_4).as_matrix())\n",
    "signals_data.append(_read_csv(tr_5).as_matrix())\n",
    "signals_data.append(_read_csv(tr_6).as_matrix())\n",
    "signals_data.append(_read_csv(tr_7).as_matrix())\n",
    "signals_data.append(_read_csv(tr_8).as_matrix())\n",
    "signals_data.append(_read_csv(tr_9).as_matrix())"
   ]
  },
  {
   "cell_type": "code",
   "execution_count": 7,
   "metadata": {},
   "outputs": [],
   "source": [
    "# Transpose is used to change the dimensionality of the output,\n",
    "# aggregating the signals by combination of sample/timestep.\n",
    "# Resultant shape is (7352 train/2947 test samples, 128 timesteps, 9 signals)\n",
    "X_train = np.transpose(signals_data, (1, 2, 0))"
   ]
  },
  {
   "cell_type": "code",
   "execution_count": 8,
   "metadata": {},
   "outputs": [
    {
     "name": "stdout",
     "output_type": "stream",
     "text": [
      "7352\n",
      "128\n",
      "9\n"
     ]
    }
   ],
   "source": [
    "print(len(X_train))\n",
    "print(len(X_train[0]))\n",
    "print(len(X_train[0][0]))"
   ]
  },
  {
   "cell_type": "code",
   "execution_count": 9,
   "metadata": {},
   "outputs": [],
   "source": [
    "#Loading the train data for X_test\n",
    "ts_1 = 'UCI_HAR_Dataset/test/Inertial Signals/body_acc_x_test.txt'\n",
    "ts_2 = 'UCI_HAR_Dataset/test/Inertial Signals/body_acc_y_test.txt'\n",
    "ts_3 = 'UCI_HAR_Dataset/test/Inertial Signals/body_acc_z_test.txt'\n",
    "ts_4 = 'UCI_HAR_Dataset/test/Inertial Signals/body_gyro_x_test.txt'\n",
    "ts_5 = 'UCI_HAR_Dataset/test/Inertial Signals/body_gyro_y_test.txt'\n",
    "ts_6 = 'UCI_HAR_Dataset/test/Inertial Signals/body_gyro_z_test.txt'\n",
    "ts_7 = 'UCI_HAR_Dataset/test/Inertial Signals/total_acc_x_test.txt'\n",
    "ts_8 = 'UCI_HAR_Dataset/test/Inertial Signals/total_acc_y_test.txt'\n",
    "ts_9 = 'UCI_HAR_Dataset/test/Inertial Signals/total_acc_z_test.txt'"
   ]
  },
  {
   "cell_type": "code",
   "execution_count": 10,
   "metadata": {},
   "outputs": [],
   "source": [
    "Xtest_signalsdata = []\n",
    "\n",
    "Xtest_signalsdata.append(_read_csv(ts_1).as_matrix())\n",
    "Xtest_signalsdata.append(_read_csv(ts_2).as_matrix())\n",
    "Xtest_signalsdata.append(_read_csv(ts_3).as_matrix())\n",
    "Xtest_signalsdata.append(_read_csv(ts_4).as_matrix())\n",
    "Xtest_signalsdata.append(_read_csv(ts_5).as_matrix())\n",
    "Xtest_signalsdata.append(_read_csv(ts_6).as_matrix())\n",
    "Xtest_signalsdata.append(_read_csv(ts_7).as_matrix())\n",
    "Xtest_signalsdata.append(_read_csv(ts_8).as_matrix())\n",
    "Xtest_signalsdata.append(_read_csv(ts_9).as_matrix())"
   ]
  },
  {
   "cell_type": "code",
   "execution_count": 11,
   "metadata": {},
   "outputs": [],
   "source": [
    "X_test = np.transpose(Xtest_signalsdata, (1, 2, 0))"
   ]
  },
  {
   "cell_type": "code",
   "execution_count": 12,
   "metadata": {},
   "outputs": [
    {
     "name": "stdout",
     "output_type": "stream",
     "text": [
      "2947\n",
      "128\n",
      "9\n"
     ]
    }
   ],
   "source": [
    "print(len(X_test))\n",
    "print(len(X_test[0]))\n",
    "print(len(X_test[0][0]))"
   ]
  },
  {
   "cell_type": "markdown",
   "metadata": {},
   "source": [
    "#### Loading y_train and y_test"
   ]
  },
  {
   "cell_type": "code",
   "execution_count": 13,
   "metadata": {},
   "outputs": [],
   "source": [
    "#Loading the train data for y_train\n",
    "y_tr = 'UCI_HAR_Dataset/train/y_train.txt'"
   ]
  },
  {
   "cell_type": "code",
   "execution_count": 14,
   "metadata": {},
   "outputs": [],
   "source": [
    "y = _read_csv(y_tr)[0]"
   ]
  },
  {
   "cell_type": "code",
   "execution_count": 15,
   "metadata": {},
   "outputs": [],
   "source": [
    "y_train = pd.get_dummies(y).as_matrix()"
   ]
  },
  {
   "cell_type": "code",
   "execution_count": 16,
   "metadata": {},
   "outputs": [
    {
     "data": {
      "text/plain": [
       "7352"
      ]
     },
     "execution_count": 16,
     "metadata": {},
     "output_type": "execute_result"
    }
   ],
   "source": [
    "len(y_train)"
   ]
  },
  {
   "cell_type": "code",
   "execution_count": 17,
   "metadata": {},
   "outputs": [],
   "source": [
    "#Loading the train data for y_test\n",
    "y_tst = 'UCI_HAR_Dataset/test/y_test.txt'"
   ]
  },
  {
   "cell_type": "code",
   "execution_count": 18,
   "metadata": {},
   "outputs": [],
   "source": [
    "y_tst = _read_csv(y_tst)[0]"
   ]
  },
  {
   "cell_type": "code",
   "execution_count": 19,
   "metadata": {},
   "outputs": [],
   "source": [
    "y_test = pd.get_dummies(y_tst).as_matrix()"
   ]
  },
  {
   "cell_type": "code",
   "execution_count": 20,
   "metadata": {},
   "outputs": [
    {
     "data": {
      "text/plain": [
       "2947"
      ]
     },
     "execution_count": 20,
     "metadata": {},
     "output_type": "execute_result"
    }
   ],
   "source": [
    "len(y_test)"
   ]
  },
  {
   "cell_type": "code",
   "execution_count": 21,
   "metadata": {},
   "outputs": [],
   "source": [
    "# Importing tensorflow\n",
    "np.random.seed(42)\n",
    "import tensorflow as tf\n",
    "tf.set_random_seed(42)"
   ]
  },
  {
   "cell_type": "code",
   "execution_count": 22,
   "metadata": {},
   "outputs": [],
   "source": [
    "# Configuring a session\n",
    "session_conf = tf.ConfigProto(\n",
    "    intra_op_parallelism_threads=1,\n",
    "    inter_op_parallelism_threads=1\n",
    ")"
   ]
  },
  {
   "cell_type": "code",
   "execution_count": 23,
   "metadata": {},
   "outputs": [
    {
     "name": "stderr",
     "output_type": "stream",
     "text": [
      "Using TensorFlow backend.\n"
     ]
    }
   ],
   "source": [
    "# Import Keras\n",
    "from keras import backend as K\n",
    "sess = tf.Session(graph=tf.get_default_graph(), config=session_conf)\n",
    "K.set_session(sess)"
   ]
  },
  {
   "cell_type": "code",
   "execution_count": 25,
   "metadata": {},
   "outputs": [],
   "source": [
    "# Importing libraries\n",
    "from keras.models import Sequential\n",
    "from keras.layers import LSTM\n",
    "from keras.layers.core import Dense, Dropout"
   ]
  },
  {
   "cell_type": "code",
   "execution_count": 26,
   "metadata": {},
   "outputs": [],
   "source": [
    "# Utility function to count the number of classes\n",
    "def _count_classes(y):\n",
    "    return len(set([tuple(category) for category in y]))"
   ]
  },
  {
   "cell_type": "code",
   "execution_count": 27,
   "metadata": {},
   "outputs": [
    {
     "name": "stdout",
     "output_type": "stream",
     "text": [
      "128\n",
      "9\n",
      "7352\n"
     ]
    }
   ],
   "source": [
    "timesteps = len(X_train[0])\n",
    "input_dim = len(X_train[0][0])\n",
    "n_classes = _count_classes(y_train)\n",
    "\n",
    "print(timesteps)\n",
    "print(input_dim)\n",
    "print(len(X_train))"
   ]
  },
  {
   "cell_type": "markdown",
   "metadata": {},
   "source": [
    "### 1. LSTM with one layer"
   ]
  },
  {
   "cell_type": "code",
   "execution_count": 28,
   "metadata": {},
   "outputs": [],
   "source": [
    "# Initializing parameters\n",
    "epochs = 30\n",
    "batch_size = 16\n",
    "n_hidden = 32"
   ]
  },
  {
   "cell_type": "code",
   "execution_count": 29,
   "metadata": {},
   "outputs": [
    {
     "name": "stdout",
     "output_type": "stream",
     "text": [
      "_________________________________________________________________\n",
      "Layer (type)                 Output Shape              Param #   \n",
      "=================================================================\n",
      "lstm_1 (LSTM)                (None, 32)                5376      \n",
      "_________________________________________________________________\n",
      "dropout_1 (Dropout)          (None, 32)                0         \n",
      "_________________________________________________________________\n",
      "dense_1 (Dense)              (None, 6)                 198       \n",
      "=================================================================\n",
      "Total params: 5,574\n",
      "Trainable params: 5,574\n",
      "Non-trainable params: 0\n",
      "_________________________________________________________________\n"
     ]
    }
   ],
   "source": [
    "# Initiliazing the sequential model\n",
    "model = Sequential()\n",
    "# Configuring the parameters\n",
    "model.add(LSTM(n_hidden, input_shape=(timesteps, input_dim)))\n",
    "# Adding a dropout layer\n",
    "model.add(Dropout(0.5))\n",
    "# Adding a dense output layer with sigmoid activation\n",
    "model.add(Dense(n_classes, activation='sigmoid'))\n",
    "model.summary()"
   ]
  },
  {
   "cell_type": "code",
   "execution_count": 30,
   "metadata": {},
   "outputs": [],
   "source": [
    "# Compiling the model\n",
    "model.compile(loss='categorical_crossentropy',\n",
    "              optimizer='rmsprop',\n",
    "              metrics=['accuracy'])"
   ]
  },
  {
   "cell_type": "code",
   "execution_count": 40,
   "metadata": {},
   "outputs": [
    {
     "name": "stdout",
     "output_type": "stream",
     "text": [
      "Train on 7352 samples, validate on 2947 samples\n",
      "Epoch 1/30\n",
      "7352/7352 [==============================] - 53s 7ms/step - loss: 0.1677 - acc: 0.9491 - val_loss: 0.3217 - val_acc: 0.9108\n",
      "Epoch 2/30\n",
      "7352/7352 [==============================] - 51s 7ms/step - loss: 0.1604 - acc: 0.9494 - val_loss: 0.4382 - val_acc: 0.9084\n",
      "Epoch 3/30\n",
      "7352/7352 [==============================] - 52s 7ms/step - loss: 0.1540 - acc: 0.9494 - val_loss: 0.4220 - val_acc: 0.9131\n",
      "Epoch 4/30\n",
      "7352/7352 [==============================] - 51s 7ms/step - loss: 0.1719 - acc: 0.9478 - val_loss: 0.4104 - val_acc: 0.9182\n",
      "Epoch 5/30\n",
      "7352/7352 [==============================] - 53s 7ms/step - loss: 0.1446 - acc: 0.9483 - val_loss: 0.3718 - val_acc: 0.9101\n",
      "Epoch 6/30\n",
      "7352/7352 [==============================] - 52s 7ms/step - loss: 0.1451 - acc: 0.9489 - val_loss: 0.4547 - val_acc: 0.8975\n",
      "Epoch 7/30\n",
      "7352/7352 [==============================] - 53s 7ms/step - loss: 0.1480 - acc: 0.9501 - val_loss: 0.4265 - val_acc: 0.9050\n",
      "Epoch 8/30\n",
      "7352/7352 [==============================] - 54s 7ms/step - loss: 0.1359 - acc: 0.9513 - val_loss: 0.3677 - val_acc: 0.9121\n",
      "Epoch 9/30\n",
      "7352/7352 [==============================] - 53s 7ms/step - loss: 0.1453 - acc: 0.9520 - val_loss: 0.4181 - val_acc: 0.9101\n",
      "Epoch 10/30\n",
      "7352/7352 [==============================] - 53s 7ms/step - loss: 0.1444 - acc: 0.9523 - val_loss: 0.4241 - val_acc: 0.9141\n",
      "Epoch 11/30\n",
      "7352/7352 [==============================] - 53s 7ms/step - loss: 0.1509 - acc: 0.9521 - val_loss: 0.4533 - val_acc: 0.9023\n",
      "Epoch 12/30\n",
      "7352/7352 [==============================] - 52s 7ms/step - loss: 0.1568 - acc: 0.9487 - val_loss: 0.4120 - val_acc: 0.9128\n",
      "Epoch 13/30\n",
      "7352/7352 [==============================] - 53s 7ms/step - loss: 0.1359 - acc: 0.9505 - val_loss: 0.4156 - val_acc: 0.9155\n",
      "Epoch 14/30\n",
      "7352/7352 [==============================] - 54s 7ms/step - loss: 0.1395 - acc: 0.9505 - val_loss: 0.5503 - val_acc: 0.8989\n",
      "Epoch 15/30\n",
      "7352/7352 [==============================] - 54s 7ms/step - loss: 0.1367 - acc: 0.9517 - val_loss: 0.5409 - val_acc: 0.9074\n",
      "Epoch 16/30\n",
      "7352/7352 [==============================] - 54s 7ms/step - loss: 0.1450 - acc: 0.9524 - val_loss: 0.4455 - val_acc: 0.9121\n",
      "Epoch 17/30\n",
      "7352/7352 [==============================] - 55s 7ms/step - loss: 0.1822 - acc: 0.9455 - val_loss: 0.4762 - val_acc: 0.9094\n",
      "Epoch 18/30\n",
      "7352/7352 [==============================] - 56s 8ms/step - loss: 0.1501 - acc: 0.9512 - val_loss: 0.4533 - val_acc: 0.9087\n",
      "Epoch 19/30\n",
      "7352/7352 [==============================] - 54s 7ms/step - loss: 0.1755 - acc: 0.9498 - val_loss: 0.6110 - val_acc: 0.8979\n",
      "Epoch 20/30\n",
      "7352/7352 [==============================] - 54s 7ms/step - loss: 0.1458 - acc: 0.9517 - val_loss: 0.4519 - val_acc: 0.9114\n",
      "Epoch 21/30\n",
      "7352/7352 [==============================] - 55s 7ms/step - loss: 0.1441 - acc: 0.9529 - val_loss: 0.4319 - val_acc: 0.9101\n",
      "Epoch 22/30\n",
      "7352/7352 [==============================] - 55s 7ms/step - loss: 0.1351 - acc: 0.9528 - val_loss: 0.4282 - val_acc: 0.9128\n",
      "Epoch 23/30\n",
      "7352/7352 [==============================] - 54s 7ms/step - loss: 0.1359 - acc: 0.9516 - val_loss: 0.4525 - val_acc: 0.9165\n",
      "Epoch 24/30\n",
      "7352/7352 [==============================] - 54s 7ms/step - loss: 0.1528 - acc: 0.9513 - val_loss: 0.5694 - val_acc: 0.9030\n",
      "Epoch 25/30\n",
      "7352/7352 [==============================] - 54s 7ms/step - loss: 0.3056 - acc: 0.9090 - val_loss: 0.5275 - val_acc: 0.8721\n",
      "Epoch 26/30\n",
      "7352/7352 [==============================] - 54s 7ms/step - loss: 0.4060 - acc: 0.8896 - val_loss: 0.3637 - val_acc: 0.8992\n",
      "Epoch 27/30\n",
      "7352/7352 [==============================] - 54s 7ms/step - loss: 0.2385 - acc: 0.9309 - val_loss: 0.3289 - val_acc: 0.9063\n",
      "Epoch 28/30\n",
      "7352/7352 [==============================] - 55s 7ms/step - loss: 0.2535 - acc: 0.9217 - val_loss: 0.3733 - val_acc: 0.9043\n",
      "Epoch 29/30\n",
      "7352/7352 [==============================] - 54s 7ms/step - loss: 0.1883 - acc: 0.9323 - val_loss: 0.3609 - val_acc: 0.9179\n",
      "Epoch 30/30\n",
      "7352/7352 [==============================] - 54s 7ms/step - loss: 0.1489 - acc: 0.9478 - val_loss: 0.4445 - val_acc: 0.9148\n",
      "2947/2947 [==============================] - 2s 521us/step\n",
      "Accuracy: 91.48%\n"
     ]
    }
   ],
   "source": [
    "# Training the model\n",
    "model_1 = model.fit(X_train, y_train, batch_size=batch_size, validation_data=(X_test, y_test), epochs=epochs)\n",
    "score = model.evaluate(X_test, y_test)\n",
    "print(\"Accuracy: %.2f%%\" % (score[1]*100))"
   ]
  },
  {
   "cell_type": "code",
   "execution_count": 41,
   "metadata": {},
   "outputs": [
    {
     "name": "stdout",
     "output_type": "stream",
     "text": [
      "Pred                LAYING  SITTING  STANDING  WALKING  WALKING_DOWNSTAIRS  \\\n",
      "True                                                                         \n",
      "LAYING                 537        0         0        0                   0   \n",
      "SITTING                  0      418        72        0                   1   \n",
      "STANDING                 0      111       420        1                   0   \n",
      "WALKING                  0        0         0      472                  24   \n",
      "WALKING_DOWNSTAIRS       0        0         0        9                 407   \n",
      "WALKING_UPSTAIRS         0        0         0       28                   1   \n",
      "\n",
      "Pred                WALKING_UPSTAIRS  \n",
      "True                                  \n",
      "LAYING                             0  \n",
      "SITTING                            0  \n",
      "STANDING                           0  \n",
      "WALKING                            0  \n",
      "WALKING_DOWNSTAIRS                 4  \n",
      "WALKING_UPSTAIRS                 442  \n"
     ]
    }
   ],
   "source": [
    "# Confusion Matrix\n",
    "print(confusion_matrix(y_test, model.predict(X_test)))"
   ]
  },
  {
   "cell_type": "code",
   "execution_count": 34,
   "metadata": {},
   "outputs": [],
   "source": [
    "import matplotlib.pyplot as plt\n",
    "import time\n",
    "\n",
    "#this function is used to update the plots for each epoch and error\n",
    "def plt_dynamic(x, vy, ty, ax, colors=['b']):    \n",
    "    ax.plot(x, vy, 'b', label=\"Validation Loss\")\n",
    "    ax.plot(x, ty, 'r', label=\"Train Loss\")\n",
    "    plt.legend()\n",
    "    plt.grid()\n",
    "    fig.canvas.draw()"
   ]
  },
  {
   "cell_type": "code",
   "execution_count": 43,
   "metadata": {},
   "outputs": [
    {
     "data": {
      "image/png": "[encoded data removed]",
      "text/plain": [
       "<Figure size 432x288 with 1 Axes>"
      ]
     },
     "metadata": {},
     "output_type": "display_data"
    }
   ],
   "source": [
    "fig,ax = plt.subplots(1,1)\n",
    "ax.set_xlabel('epoch')\n",
    "ax.set_ylabel('Categorical Crossentropy Loss')\n",
    "\n",
    "x = list(range(1,31))\n",
    "\n",
    "vy = model_1.history['val_loss']\n",
    "ty = model_1.history['loss']\n",
    "plt_dynamic(x, vy, ty, ax)"
   ]
  },
  {
   "cell_type": "markdown",
   "metadata": {},
   "source": [
    "## 2. LSTM with one layer(48 units)"
   ]
  },
  {
   "cell_type": "code",
   "execution_count": 30,
   "metadata": {},
   "outputs": [
    {
     "name": "stdout",
     "output_type": "stream",
     "text": [
      "_________________________________________________________________\n",
      "Layer (type)                 Output Shape              Param #   \n",
      "=================================================================\n",
      "lstm_2 (LSTM)                (None, 48)                11136     \n",
      "_________________________________________________________________\n",
      "dropout_2 (Dropout)          (None, 48)                0         \n",
      "_________________________________________________________________\n",
      "dense_2 (Dense)              (None, 6)                 294       \n",
      "=================================================================\n",
      "Total params: 11,430\n",
      "Trainable params: 11,430\n",
      "Non-trainable params: 0\n",
      "_________________________________________________________________\n"
     ]
    }
   ],
   "source": [
    "model = Sequential()\n",
    "model.add(LSTM(48, input_shape=(timesteps, input_dim)))\n",
    "model.add(Dropout(0.5))\n",
    "model.add(Dense(n_classes, activation='sigmoid'))\n",
    "model.summary()\n",
    "\n",
    "model.compile(loss='categorical_crossentropy',\n",
    "              optimizer='rmsprop',\n",
    "              metrics=['accuracy'])"
   ]
  },
  {
   "cell_type": "code",
   "execution_count": 31,
   "metadata": {},
   "outputs": [
    {
     "name": "stdout",
     "output_type": "stream",
     "text": [
      "Train on 7352 samples, validate on 2947 samples\n",
      "Epoch 1/30\n",
      "7352/7352 [==============================] - 59s 8ms/step - loss: 1.2611 - acc: 0.4713 - val_loss: 1.1306 - val_acc: 0.5490\n",
      "Epoch 2/30\n",
      "7352/7352 [==============================] - 57s 8ms/step - loss: 1.0592 - acc: 0.5502 - val_loss: 0.9163 - val_acc: 0.6189\n",
      "Epoch 3/30\n",
      "7352/7352 [==============================] - 57s 8ms/step - loss: 0.8463 - acc: 0.6113 - val_loss: 0.8728 - val_acc: 0.6223\n",
      "Epoch 4/30\n",
      "7352/7352 [==============================] - 57s 8ms/step - loss: 0.7502 - acc: 0.6439 - val_loss: 0.7714 - val_acc: 0.6128\n",
      "Epoch 5/30\n",
      "7352/7352 [==============================] - 57s 8ms/step - loss: 0.6987 - acc: 0.6676 - val_loss: 0.8003 - val_acc: 0.6464\n",
      "Epoch 6/30\n",
      "7352/7352 [==============================] - 57s 8ms/step - loss: 0.5929 - acc: 0.7444 - val_loss: 0.7015 - val_acc: 0.7431\n",
      "Epoch 7/30\n",
      "7352/7352 [==============================] - 57s 8ms/step - loss: 0.4930 - acc: 0.8368 - val_loss: 0.6798 - val_acc: 0.7710\n",
      "Epoch 8/30\n",
      "7352/7352 [==============================] - 57s 8ms/step - loss: 0.3855 - acc: 0.8776 - val_loss: 0.5434 - val_acc: 0.8426\n",
      "Epoch 9/30\n",
      "7352/7352 [==============================] - 57s 8ms/step - loss: 0.3314 - acc: 0.9025 - val_loss: 0.5194 - val_acc: 0.8599\n",
      "Epoch 10/30\n",
      "7352/7352 [==============================] - 57s 8ms/step - loss: 0.2692 - acc: 0.9163 - val_loss: 0.3865 - val_acc: 0.8768\n",
      "Epoch 11/30\n",
      "7352/7352 [==============================] - 57s 8ms/step - loss: 0.2740 - acc: 0.9184 - val_loss: 0.4617 - val_acc: 0.8700\n",
      "Epoch 12/30\n",
      "7352/7352 [==============================] - 57s 8ms/step - loss: 0.2257 - acc: 0.9289 - val_loss: 0.5521 - val_acc: 0.8514\n",
      "Epoch 13/30\n",
      "7352/7352 [==============================] - 57s 8ms/step - loss: 0.2152 - acc: 0.9321 - val_loss: 0.3439 - val_acc: 0.8870\n",
      "Epoch 14/30\n",
      "7352/7352 [==============================] - 57s 8ms/step - loss: 0.2082 - acc: 0.9343 - val_loss: 0.3788 - val_acc: 0.8890\n",
      "Epoch 15/30\n",
      "7352/7352 [==============================] - 57s 8ms/step - loss: 0.2099 - acc: 0.9363 - val_loss: 0.3987 - val_acc: 0.8877\n",
      "Epoch 16/30\n",
      "7352/7352 [==============================] - 57s 8ms/step - loss: 0.2042 - acc: 0.9368 - val_loss: 0.4684 - val_acc: 0.8707\n",
      "Epoch 17/30\n",
      "7352/7352 [==============================] - 57s 8ms/step - loss: 0.2096 - acc: 0.9340 - val_loss: 0.3973 - val_acc: 0.8907\n",
      "Epoch 18/30\n",
      "7352/7352 [==============================] - 57s 8ms/step - loss: 0.1960 - acc: 0.9343 - val_loss: 0.3536 - val_acc: 0.8819\n",
      "Epoch 19/30\n",
      "7352/7352 [==============================] - 57s 8ms/step - loss: 0.1718 - acc: 0.9421 - val_loss: 0.2815 - val_acc: 0.8999\n",
      "Epoch 20/30\n",
      "7352/7352 [==============================] - 58s 8ms/step - loss: 0.1729 - acc: 0.9463 - val_loss: 0.3410 - val_acc: 0.8907\n",
      "Epoch 21/30\n",
      "7352/7352 [==============================] - 57s 8ms/step - loss: 0.1576 - acc: 0.9434 - val_loss: 0.3819 - val_acc: 0.9033\n",
      "Epoch 22/30\n",
      "7352/7352 [==============================] - 57s 8ms/step - loss: 0.1553 - acc: 0.9461 - val_loss: 0.5065 - val_acc: 0.8497\n",
      "Epoch 23/30\n",
      "7352/7352 [==============================] - 57s 8ms/step - loss: 0.1378 - acc: 0.9517 - val_loss: 0.3457 - val_acc: 0.8999\n",
      "Epoch 24/30\n",
      "7352/7352 [==============================] - 57s 8ms/step - loss: 0.1749 - acc: 0.9416 - val_loss: 0.4547 - val_acc: 0.8867\n",
      "Epoch 25/30\n",
      "7352/7352 [==============================] - 57s 8ms/step - loss: 0.1641 - acc: 0.9461 - val_loss: 0.3461 - val_acc: 0.9009\n",
      "Epoch 26/30\n",
      "7352/7352 [==============================] - 57s 8ms/step - loss: 0.2143 - acc: 0.9372 - val_loss: 0.7472 - val_acc: 0.8616\n",
      "Epoch 27/30\n",
      "7352/7352 [==============================] - 57s 8ms/step - loss: 0.1950 - acc: 0.9415 - val_loss: 0.3213 - val_acc: 0.9118\n",
      "Epoch 28/30\n",
      "7352/7352 [==============================] - 56s 8ms/step - loss: 0.1630 - acc: 0.9475 - val_loss: 0.5020 - val_acc: 0.8918\n",
      "Epoch 29/30\n",
      "7352/7352 [==============================] - 57s 8ms/step - loss: 0.1494 - acc: 0.9487 - val_loss: 0.4485 - val_acc: 0.8853\n",
      "Epoch 30/30\n",
      "7352/7352 [==============================] - 57s 8ms/step - loss: 0.1534 - acc: 0.9474 - val_loss: 0.3223 - val_acc: 0.9057\n",
      "2947/2947 [==============================] - 2s 591us/step\n",
      "Accuracy: 90.57%\n"
     ]
    }
   ],
   "source": [
    "model_2 = model.fit(X_train, y_train, batch_size=16, validation_data=(X_test, y_test), epochs=30)\n",
    "score = model.evaluate(X_test, y_test)\n",
    "print(\"Accuracy: %.2f%%\" % (score[1]*100))"
   ]
  },
  {
   "cell_type": "code",
   "execution_count": 32,
   "metadata": {},
   "outputs": [
    {
     "name": "stdout",
     "output_type": "stream",
     "text": [
      "Pred                LAYING  SITTING  STANDING  WALKING  WALKING_DOWNSTAIRS  \\\n",
      "True                                                                         \n",
      "LAYING                 537        0         0        0                   0   \n",
      "SITTING                  0      406        85        0                   0   \n",
      "STANDING                 0      109       422        1                   0   \n",
      "WALKING                  0        0         0      469                  21   \n",
      "WALKING_DOWNSTAIRS       0        1         0        1                 415   \n",
      "WALKING_UPSTAIRS         1        2         0       10                  38   \n",
      "\n",
      "Pred                WALKING_UPSTAIRS  \n",
      "True                                  \n",
      "LAYING                             0  \n",
      "SITTING                            0  \n",
      "STANDING                           0  \n",
      "WALKING                            6  \n",
      "WALKING_DOWNSTAIRS                 3  \n",
      "WALKING_UPSTAIRS                 420  \n"
     ]
    }
   ],
   "source": [
    "print(confusion_matrix(y_test, model.predict(X_test)))"
   ]
  },
  {
   "cell_type": "code",
   "execution_count": 35,
   "metadata": {},
   "outputs": [
    {
     "data": {
      "image/png": "[encoded data removed]",
      "text/plain": [
       "<Figure size 432x288 with 1 Axes>"
      ]
     },
     "metadata": {},
     "output_type": "display_data"
    }
   ],
   "source": [
    "fig,ax = plt.subplots(1,1)\n",
    "ax.set_xlabel('epoch')\n",
    "ax.set_ylabel('Categorical Crossentropy Loss')\n",
    "\n",
    "x = list(range(1,31))\n",
    "\n",
    "vy = model_2.history['val_loss']\n",
    "ty = model_2.history['loss']\n",
    "plt_dynamic(x, vy, ty, ax)"
   ]
  },
  {
   "cell_type": "markdown",
   "metadata": {},
   "source": [
    "## 3. LSTM with one layer(64 units)"
   ]
  },
  {
   "cell_type": "code",
   "execution_count": 41,
   "metadata": {},
   "outputs": [
    {
     "name": "stdout",
     "output_type": "stream",
     "text": [
      "_________________________________________________________________\n",
      "Layer (type)                 Output Shape              Param #   \n",
      "=================================================================\n",
      "lstm_6 (LSTM)                (None, 64)                18944     \n",
      "_________________________________________________________________\n",
      "dropout_6 (Dropout)          (None, 64)                0         \n",
      "_________________________________________________________________\n",
      "dense_6 (Dense)              (None, 6)                 390       \n",
      "=================================================================\n",
      "Total params: 19,334\n",
      "Trainable params: 19,334\n",
      "Non-trainable params: 0\n",
      "_________________________________________________________________\n"
     ]
    }
   ],
   "source": [
    "model = Sequential()\n",
    "model.add(LSTM(64, input_shape=(timesteps, input_dim)))\n",
    "model.add(Dropout(0.5))\n",
    "model.add(Dense(n_classes, activation='sigmoid'))\n",
    "model.summary()\n",
    "\n",
    "model.compile(loss='categorical_crossentropy',\n",
    "              optimizer='rmsprop',\n",
    "              metrics=['accuracy'])"
   ]
  },
  {
   "cell_type": "code",
   "execution_count": 39,
   "metadata": {},
   "outputs": [
    {
     "name": "stdout",
     "output_type": "stream",
     "text": [
      "Train on 7352 samples, validate on 2947 samples\n",
      "Epoch 1/30\n",
      "7352/7352 [==============================] - 62s 8ms/step - loss: 1.2523 - acc: 0.4600 - val_loss: 1.2109 - val_acc: 0.4744\n",
      "Epoch 2/30\n",
      "7352/7352 [==============================] - 60s 8ms/step - loss: 1.0148 - acc: 0.5588 - val_loss: 0.9561 - val_acc: 0.5813\n",
      "Epoch 3/30\n",
      "7352/7352 [==============================] - 59s 8ms/step - loss: 0.7756 - acc: 0.6483 - val_loss: 0.8169 - val_acc: 0.6403\n",
      "Epoch 4/30\n",
      "7352/7352 [==============================] - 60s 8ms/step - loss: 0.7094 - acc: 0.6972 - val_loss: 0.7666 - val_acc: 0.7082\n",
      "Epoch 5/30\n",
      "7352/7352 [==============================] - 60s 8ms/step - loss: 0.6231 - acc: 0.7470 - val_loss: 0.6421 - val_acc: 0.7574\n",
      "Epoch 6/30\n",
      "7352/7352 [==============================] - 60s 8ms/step - loss: 0.5116 - acc: 0.8168 - val_loss: 0.6577 - val_acc: 0.7950\n",
      "Epoch 7/30\n",
      "7352/7352 [==============================] - 59s 8ms/step - loss: 0.3916 - acc: 0.8724 - val_loss: 0.4703 - val_acc: 0.8548\n",
      "Epoch 8/30\n",
      "7352/7352 [==============================] - 61s 8ms/step - loss: 0.3047 - acc: 0.9036 - val_loss: 0.4941 - val_acc: 0.8690\n",
      "Epoch 9/30\n",
      "7352/7352 [==============================] - 63s 9ms/step - loss: 0.2891 - acc: 0.9131 - val_loss: 0.5430 - val_acc: 0.8734\n",
      "Epoch 10/30\n",
      "7352/7352 [==============================] - 63s 9ms/step - loss: 0.2208 - acc: 0.9264 - val_loss: 0.3454 - val_acc: 0.8931\n",
      "Epoch 11/30\n",
      "7352/7352 [==============================] - 63s 9ms/step - loss: 0.2159 - acc: 0.9290 - val_loss: 0.4634 - val_acc: 0.8521\n",
      "Epoch 12/30\n",
      "7352/7352 [==============================] - 63s 9ms/step - loss: 0.2095 - acc: 0.9354 - val_loss: 0.3694 - val_acc: 0.8833\n",
      "Epoch 13/30\n",
      "7352/7352 [==============================] - 63s 9ms/step - loss: 0.1853 - acc: 0.9370 - val_loss: 0.3773 - val_acc: 0.8921\n",
      "Epoch 14/30\n",
      "7352/7352 [==============================] - 63s 9ms/step - loss: 0.1777 - acc: 0.9388 - val_loss: 0.3456 - val_acc: 0.8897\n",
      "Epoch 15/30\n",
      "7352/7352 [==============================] - 63s 9ms/step - loss: 0.1598 - acc: 0.9433 - val_loss: 0.2746 - val_acc: 0.9199\n",
      "Epoch 16/30\n",
      "7352/7352 [==============================] - 63s 9ms/step - loss: 0.1756 - acc: 0.9426 - val_loss: 0.3252 - val_acc: 0.9043\n",
      "Epoch 17/30\n",
      "7352/7352 [==============================] - 63s 9ms/step - loss: 0.1727 - acc: 0.9437 - val_loss: 0.3647 - val_acc: 0.8948\n",
      "Epoch 18/30\n",
      "7352/7352 [==============================] - 63s 9ms/step - loss: 0.1584 - acc: 0.9457 - val_loss: 0.3456 - val_acc: 0.8975\n",
      "Epoch 19/30\n",
      "7352/7352 [==============================] - 63s 9ms/step - loss: 0.1642 - acc: 0.9416 - val_loss: 0.5429 - val_acc: 0.8850\n",
      "Epoch 20/30\n",
      "7352/7352 [==============================] - 63s 9ms/step - loss: 0.1678 - acc: 0.9385 - val_loss: 0.3247 - val_acc: 0.9145\n",
      "Epoch 21/30\n",
      "7352/7352 [==============================] - 63s 9ms/step - loss: 0.1836 - acc: 0.9354 - val_loss: 0.3013 - val_acc: 0.8955\n",
      "Epoch 22/30\n",
      "7352/7352 [==============================] - 62s 8ms/step - loss: 0.1488 - acc: 0.9449 - val_loss: 0.3244 - val_acc: 0.9074\n",
      "Epoch 23/30\n",
      "7352/7352 [==============================] - 62s 8ms/step - loss: 0.1360 - acc: 0.9505 - val_loss: 0.4339 - val_acc: 0.8921\n",
      "Epoch 24/30\n",
      "7352/7352 [==============================] - 63s 9ms/step - loss: 0.1707 - acc: 0.9465 - val_loss: 0.5260 - val_acc: 0.9033\n",
      "Epoch 25/30\n",
      "7352/7352 [==============================] - 63s 9ms/step - loss: 0.1464 - acc: 0.9461 - val_loss: 0.5555 - val_acc: 0.8833\n",
      "Epoch 26/30\n",
      "7352/7352 [==============================] - 63s 9ms/step - loss: 0.1398 - acc: 0.9518 - val_loss: 0.4331 - val_acc: 0.9145\n",
      "Epoch 27/30\n",
      "7352/7352 [==============================] - 63s 9ms/step - loss: 0.1415 - acc: 0.9505 - val_loss: 0.3789 - val_acc: 0.9114\n",
      "Epoch 28/30\n",
      "7352/7352 [==============================] - 63s 9ms/step - loss: 0.1458 - acc: 0.9478 - val_loss: 0.5016 - val_acc: 0.9046\n",
      "Epoch 29/30\n",
      "7352/7352 [==============================] - 63s 9ms/step - loss: 0.1491 - acc: 0.9495 - val_loss: 0.4541 - val_acc: 0.9030\n",
      "Epoch 30/30\n",
      "7352/7352 [==============================] - 63s 9ms/step - loss: 0.1482 - acc: 0.9502 - val_loss: 0.4840 - val_acc: 0.9046\n",
      "2947/2947 [==============================] - 2s 681us/step\n",
      "Accuracy: 90.46%\n"
     ]
    }
   ],
   "source": [
    "model_3 = model.fit(X_train, y_train, batch_size=16, validation_data=(X_test, y_test), epochs=30)\n",
    "score = model.evaluate(X_test, y_test)\n",
    "print(\"Accuracy: %.2f%%\" % (score[1]*100))"
   ]
  },
  {
   "cell_type": "code",
   "execution_count": 44,
   "metadata": {},
   "outputs": [
    {
     "data": {
      "image/png": "[encoded data removed]",
      "text/plain": [
       "<Figure size 432x288 with 1 Axes>"
      ]
     },
     "metadata": {},
     "output_type": "display_data"
    }
   ],
   "source": [
    "fig,ax = plt.subplots(1,1)\n",
    "ax.set_xlabel('epoch')\n",
    "ax.set_ylabel('Categorical Crossentropy Loss')\n",
    "\n",
    "x = list(range(1,31))\n",
    "\n",
    "vy = model_3.history['val_loss']\n",
    "ty = model_3.history['loss']\n",
    "plt_dynamic(x, vy, ty, ax)"
   ]
  },
  {
   "cell_type": "markdown",
   "metadata": {},
   "source": [
    "## 4. LSTM with one layer(32 units and 0.6 droupout)"
   ]
  },
  {
   "cell_type": "code",
   "execution_count": 45,
   "metadata": {},
   "outputs": [
    {
     "name": "stdout",
     "output_type": "stream",
     "text": [
      "_________________________________________________________________\n",
      "Layer (type)                 Output Shape              Param #   \n",
      "=================================================================\n",
      "lstm_7 (LSTM)                (None, 32)                5376      \n",
      "_________________________________________________________________\n",
      "dropout_7 (Dropout)          (None, 32)                0         \n",
      "_________________________________________________________________\n",
      "dense_7 (Dense)              (None, 6)                 198       \n",
      "=================================================================\n",
      "Total params: 5,574\n",
      "Trainable params: 5,574\n",
      "Non-trainable params: 0\n",
      "_________________________________________________________________\n"
     ]
    }
   ],
   "source": [
    "model = Sequential()\n",
    "model.add(LSTM(32, input_shape=(timesteps, input_dim)))\n",
    "model.add(Dropout(0.6))\n",
    "model.add(Dense(n_classes, activation='sigmoid'))\n",
    "model.summary()\n",
    "\n",
    "model.compile(loss='categorical_crossentropy',\n",
    "              optimizer='rmsprop',\n",
    "              metrics=['accuracy'])"
   ]
  },
  {
   "cell_type": "code",
   "execution_count": 46,
   "metadata": {},
   "outputs": [
    {
     "name": "stdout",
     "output_type": "stream",
     "text": [
      "Train on 7352 samples, validate on 2947 samples\n",
      "Epoch 1/30\n",
      "7352/7352 [==============================] - 60s 8ms/step - loss: 1.4050 - acc: 0.3878 - val_loss: 1.2862 - val_acc: 0.4140\n",
      "Epoch 2/30\n",
      "7352/7352 [==============================] - 57s 8ms/step - loss: 1.1704 - acc: 0.4759 - val_loss: 1.1453 - val_acc: 0.4591\n",
      "Epoch 3/30\n",
      "7352/7352 [==============================] - 57s 8ms/step - loss: 1.0419 - acc: 0.5201 - val_loss: 1.0457 - val_acc: 0.4961\n",
      "Epoch 4/30\n",
      "7352/7352 [==============================] - 57s 8ms/step - loss: 0.8817 - acc: 0.6011 - val_loss: 0.7875 - val_acc: 0.6176\n",
      "Epoch 5/30\n",
      "7352/7352 [==============================] - 58s 8ms/step - loss: 0.8254 - acc: 0.6283 - val_loss: 0.9886 - val_acc: 0.5433\n",
      "Epoch 6/30\n",
      "7352/7352 [==============================] - 58s 8ms/step - loss: 0.8633 - acc: 0.6232 - val_loss: 0.7438 - val_acc: 0.6379\n",
      "Epoch 7/30\n",
      "7352/7352 [==============================] - 57s 8ms/step - loss: 0.7154 - acc: 0.6741 - val_loss: 0.7224 - val_acc: 0.6318\n",
      "Epoch 8/30\n",
      "7352/7352 [==============================] - 57s 8ms/step - loss: 0.6261 - acc: 0.7237 - val_loss: 0.6585 - val_acc: 0.7353\n",
      "Epoch 9/30\n",
      "7352/7352 [==============================] - 57s 8ms/step - loss: 0.5924 - acc: 0.7719 - val_loss: 0.5196 - val_acc: 0.7961\n",
      "Epoch 10/30\n",
      "7352/7352 [==============================] - 57s 8ms/step - loss: 0.5209 - acc: 0.8220 - val_loss: 0.5511 - val_acc: 0.8110\n",
      "Epoch 11/30\n",
      "7352/7352 [==============================] - 57s 8ms/step - loss: 0.5465 - acc: 0.8213 - val_loss: 0.4648 - val_acc: 0.8402\n",
      "Epoch 12/30\n",
      "7352/7352 [==============================] - 58s 8ms/step - loss: 0.4201 - acc: 0.8713 - val_loss: 0.5084 - val_acc: 0.8317\n",
      "Epoch 13/30\n",
      "7352/7352 [==============================] - 56s 8ms/step - loss: 0.5360 - acc: 0.8464 - val_loss: 0.8496 - val_acc: 0.7618\n",
      "Epoch 14/30\n",
      "7352/7352 [==============================] - 55s 7ms/step - loss: 0.3921 - acc: 0.8867 - val_loss: 0.6331 - val_acc: 0.8045\n",
      "Epoch 15/30\n",
      "7352/7352 [==============================] - 55s 8ms/step - loss: 0.3751 - acc: 0.8945 - val_loss: 0.6405 - val_acc: 0.8351\n",
      "Epoch 16/30\n",
      "7352/7352 [==============================] - 57s 8ms/step - loss: 0.3994 - acc: 0.8909 - val_loss: 0.4181 - val_acc: 0.8789\n",
      "Epoch 17/30\n",
      "7352/7352 [==============================] - 55s 7ms/step - loss: 0.4123 - acc: 0.8866 - val_loss: 0.3779 - val_acc: 0.8819\n",
      "Epoch 18/30\n",
      "7352/7352 [==============================] - 54s 7ms/step - loss: 0.3222 - acc: 0.9030 - val_loss: 0.4397 - val_acc: 0.8707\n",
      "Epoch 19/30\n",
      "7352/7352 [==============================] - 54s 7ms/step - loss: 0.2663 - acc: 0.9178 - val_loss: 0.4462 - val_acc: 0.8707\n",
      "Epoch 20/30\n",
      "7352/7352 [==============================] - 58s 8ms/step - loss: 0.2689 - acc: 0.9199 - val_loss: 0.3726 - val_acc: 0.8931\n",
      "Epoch 21/30\n",
      "7352/7352 [==============================] - 57s 8ms/step - loss: 0.2459 - acc: 0.9238 - val_loss: 0.4421 - val_acc: 0.8850\n",
      "Epoch 22/30\n",
      "7352/7352 [==============================] - 57s 8ms/step - loss: 0.2881 - acc: 0.9174 - val_loss: 0.3976 - val_acc: 0.8897\n",
      "Epoch 23/30\n",
      "7352/7352 [==============================] - 58s 8ms/step - loss: 0.2541 - acc: 0.9248 - val_loss: 0.9038 - val_acc: 0.7869\n",
      "Epoch 24/30\n",
      "7352/7352 [==============================] - 58s 8ms/step - loss: 0.2296 - acc: 0.9279 - val_loss: 0.4055 - val_acc: 0.8907\n",
      "Epoch 25/30\n",
      "7352/7352 [==============================] - 56s 8ms/step - loss: 0.2111 - acc: 0.9324 - val_loss: 0.5011 - val_acc: 0.8846\n",
      "Epoch 26/30\n",
      "7352/7352 [==============================] - 56s 8ms/step - loss: 0.2045 - acc: 0.9339 - val_loss: 0.4659 - val_acc: 0.8914\n",
      "Epoch 27/30\n",
      "7352/7352 [==============================] - 55s 8ms/step - loss: 0.2122 - acc: 0.9320 - val_loss: 0.5602 - val_acc: 0.8795\n",
      "Epoch 28/30\n",
      "7352/7352 [==============================] - 56s 8ms/step - loss: 0.1942 - acc: 0.9374 - val_loss: 0.5331 - val_acc: 0.8938\n",
      "Epoch 29/30\n",
      "7352/7352 [==============================] - 56s 8ms/step - loss: 0.1935 - acc: 0.9363 - val_loss: 0.3619 - val_acc: 0.9063\n",
      "Epoch 30/30\n",
      "7352/7352 [==============================] - 56s 8ms/step - loss: 0.1881 - acc: 0.9361 - val_loss: 0.5529 - val_acc: 0.8904\n",
      "2947/2947 [==============================] - 2s 534us/step\n",
      "Accuracy: 89.04%\n"
     ]
    }
   ],
   "source": [
    "model_4 = model.fit(X_train, y_train, batch_size=16, validation_data=(X_test, y_test), epochs=30)\n",
    "score = model.evaluate(X_test, y_test)\n",
    "print(\"Accuracy: %.2f%%\" % (score[1]*100))"
   ]
  },
  {
   "cell_type": "code",
   "execution_count": 47,
   "metadata": {},
   "outputs": [
    {
     "name": "stdout",
     "output_type": "stream",
     "text": [
      "Pred                LAYING  SITTING  STANDING  WALKING  WALKING_DOWNSTAIRS  \\\n",
      "True                                                                         \n",
      "LAYING                 537        0         0        0                   0   \n",
      "SITTING                  1      370       107        4                   2   \n",
      "STANDING                 0       60       454       13                   3   \n",
      "WALKING                  0        0         0      485                   8   \n",
      "WALKING_DOWNSTAIRS       0        0         0       57                 353   \n",
      "WALKING_UPSTAIRS         0        1         0       27                  18   \n",
      "\n",
      "Pred                WALKING_UPSTAIRS  \n",
      "True                                  \n",
      "LAYING                             0  \n",
      "SITTING                            7  \n",
      "STANDING                           2  \n",
      "WALKING                            3  \n",
      "WALKING_DOWNSTAIRS                10  \n",
      "WALKING_UPSTAIRS                 425  \n"
     ]
    }
   ],
   "source": [
    "print(confusion_matrix(y_test, model.predict(X_test)))"
   ]
  },
  {
   "cell_type": "code",
   "execution_count": 48,
   "metadata": {},
   "outputs": [
    {
     "data": {
      "image/png": "[encoded data removed]",
      "text/plain": [
       "<Figure size 432x288 with 1 Axes>"
      ]
     },
     "metadata": {},
     "output_type": "display_data"
    }
   ],
   "source": [
    "fig,ax = plt.subplots(1,1)\n",
    "ax.set_xlabel('epoch')\n",
    "ax.set_ylabel('Categorical Crossentropy Loss')\n",
    "\n",
    "x = list(range(1,31))\n",
    "\n",
    "vy = model_4.history['val_loss']\n",
    "ty = model_4.history['loss']\n",
    "plt_dynamic(x, vy, ty, ax)"
   ]
  },
  {
   "cell_type": "markdown",
   "metadata": {},
   "source": [
    "## 5. LSTM with one layer(64 units and 0.6 droupout)"
   ]
  },
  {
   "cell_type": "code",
   "execution_count": 49,
   "metadata": {},
   "outputs": [
    {
     "name": "stdout",
     "output_type": "stream",
     "text": [
      "_________________________________________________________________\n",
      "Layer (type)                 Output Shape              Param #   \n",
      "=================================================================\n",
      "lstm_8 (LSTM)                (None, 64)                18944     \n",
      "_________________________________________________________________\n",
      "dropout_8 (Dropout)          (None, 64)                0         \n",
      "_________________________________________________________________\n",
      "dense_8 (Dense)              (None, 6)                 390       \n",
      "=================================================================\n",
      "Total params: 19,334\n",
      "Trainable params: 19,334\n",
      "Non-trainable params: 0\n",
      "_________________________________________________________________\n"
     ]
    }
   ],
   "source": [
    "model = Sequential()\n",
    "model.add(LSTM(64, input_shape=(timesteps, input_dim)))\n",
    "model.add(Dropout(0.6))\n",
    "model.add(Dense(n_classes, activation='sigmoid'))\n",
    "model.summary()\n",
    "\n",
    "model.compile(loss='categorical_crossentropy',\n",
    "              optimizer='rmsprop',\n",
    "              metrics=['accuracy'])"
   ]
  },
  {
   "cell_type": "code",
   "execution_count": 50,
   "metadata": {},
   "outputs": [
    {
     "name": "stdout",
     "output_type": "stream",
     "text": [
      "Train on 7352 samples, validate on 2947 samples\n",
      "Epoch 1/30\n",
      "7352/7352 [==============================] - 63s 9ms/step - loss: 1.2983 - acc: 0.4444 - val_loss: 1.1276 - val_acc: 0.5025\n",
      "Epoch 2/30\n",
      "7352/7352 [==============================] - 61s 8ms/step - loss: 0.9231 - acc: 0.6019 - val_loss: 0.9085 - val_acc: 0.6071\n",
      "Epoch 3/30\n",
      "7352/7352 [==============================] - 62s 8ms/step - loss: 0.7759 - acc: 0.6617 - val_loss: 0.7794 - val_acc: 0.7106\n",
      "Epoch 4/30\n",
      "7352/7352 [==============================] - 62s 8ms/step - loss: 0.6972 - acc: 0.7248 - val_loss: 0.6667 - val_acc: 0.7679\n",
      "Epoch 5/30\n",
      "7352/7352 [==============================] - 61s 8ms/step - loss: 0.5776 - acc: 0.8011 - val_loss: 0.5448 - val_acc: 0.8219\n",
      "Epoch 6/30\n",
      "7352/7352 [==============================] - 62s 8ms/step - loss: 0.4214 - acc: 0.8747 - val_loss: 0.6507 - val_acc: 0.8191\n",
      "Epoch 7/30\n",
      "7352/7352 [==============================] - 61s 8ms/step - loss: 0.3039 - acc: 0.9097 - val_loss: 0.5006 - val_acc: 0.8609\n",
      "Epoch 8/30\n",
      "7352/7352 [==============================] - 62s 8ms/step - loss: 0.2588 - acc: 0.9233 - val_loss: 0.4290 - val_acc: 0.8768\n",
      "Epoch 9/30\n",
      "7352/7352 [==============================] - 62s 8ms/step - loss: 0.2272 - acc: 0.9289 - val_loss: 0.4851 - val_acc: 0.8789\n",
      "Epoch 10/30\n",
      "7352/7352 [==============================] - 62s 8ms/step - loss: 0.2032 - acc: 0.9319 - val_loss: 0.3241 - val_acc: 0.9009\n",
      "Epoch 11/30\n",
      "7352/7352 [==============================] - 61s 8ms/step - loss: 0.2932 - acc: 0.9178 - val_loss: 0.4591 - val_acc: 0.8714\n",
      "Epoch 12/30\n",
      "7352/7352 [==============================] - 61s 8ms/step - loss: 0.2023 - acc: 0.9313 - val_loss: 0.4719 - val_acc: 0.8941\n",
      "Epoch 13/30\n",
      "7352/7352 [==============================] - 61s 8ms/step - loss: 0.1783 - acc: 0.9368 - val_loss: 0.9839 - val_acc: 0.8466\n",
      "Epoch 14/30\n",
      "7352/7352 [==============================] - 62s 8ms/step - loss: 0.1944 - acc: 0.9396 - val_loss: 0.4976 - val_acc: 0.8965\n",
      "Epoch 15/30\n",
      "7352/7352 [==============================] - 62s 8ms/step - loss: 0.1776 - acc: 0.9421 - val_loss: 0.5102 - val_acc: 0.8999\n",
      "Epoch 16/30\n",
      "7352/7352 [==============================] - 62s 8ms/step - loss: 0.1928 - acc: 0.9410 - val_loss: 0.4409 - val_acc: 0.8856\n",
      "Epoch 17/30\n",
      "7352/7352 [==============================] - 61s 8ms/step - loss: 0.1559 - acc: 0.9444 - val_loss: 0.3759 - val_acc: 0.9060\n",
      "Epoch 18/30\n",
      "7352/7352 [==============================] - 61s 8ms/step - loss: 0.1742 - acc: 0.9455 - val_loss: 0.3577 - val_acc: 0.9030\n",
      "Epoch 19/30\n",
      "7352/7352 [==============================] - 61s 8ms/step - loss: 0.1674 - acc: 0.9438 - val_loss: 0.4104 - val_acc: 0.8972\n",
      "Epoch 20/30\n",
      "7352/7352 [==============================] - 61s 8ms/step - loss: 0.1695 - acc: 0.9399 - val_loss: 0.3907 - val_acc: 0.9080\n",
      "Epoch 21/30\n",
      "7352/7352 [==============================] - 62s 8ms/step - loss: 0.1469 - acc: 0.9459 - val_loss: 0.4483 - val_acc: 0.9030\n",
      "Epoch 22/30\n",
      "7352/7352 [==============================] - 63s 9ms/step - loss: 0.1489 - acc: 0.9450 - val_loss: 0.3794 - val_acc: 0.9104\n",
      "Epoch 23/30\n",
      "7352/7352 [==============================] - 64s 9ms/step - loss: 0.1412 - acc: 0.9456 - val_loss: 0.3606 - val_acc: 0.9148\n",
      "Epoch 24/30\n",
      "7352/7352 [==============================] - 64s 9ms/step - loss: 0.2848 - acc: 0.9155 - val_loss: 0.4684 - val_acc: 0.8616\n",
      "Epoch 25/30\n",
      "7352/7352 [==============================] - 62s 8ms/step - loss: 0.1836 - acc: 0.9376 - val_loss: 0.5604 - val_acc: 0.9016\n",
      "Epoch 26/30\n",
      "7352/7352 [==============================] - 62s 8ms/step - loss: 0.1727 - acc: 0.9407 - val_loss: 0.3755 - val_acc: 0.8992\n",
      "Epoch 27/30\n",
      "7352/7352 [==============================] - 61s 8ms/step - loss: 0.1445 - acc: 0.9501 - val_loss: 0.5063 - val_acc: 0.9009\n",
      "Epoch 28/30\n",
      "7352/7352 [==============================] - 61s 8ms/step - loss: 0.1427 - acc: 0.9467 - val_loss: 0.4127 - val_acc: 0.9131\n",
      "Epoch 29/30\n",
      "7352/7352 [==============================] - 61s 8ms/step - loss: 0.1573 - acc: 0.9467 - val_loss: 0.6957 - val_acc: 0.8968\n",
      "Epoch 30/30\n",
      "7352/7352 [==============================] - 62s 8ms/step - loss: 0.1747 - acc: 0.9461 - val_loss: 0.5408 - val_acc: 0.8979\n",
      "2947/2947 [==============================] - 2s 632us/step\n",
      "Accuracy: 89.79%\n"
     ]
    }
   ],
   "source": [
    "model_5 = model.fit(X_train, y_train, batch_size=16, validation_data=(X_test, y_test), epochs=30)\n",
    "score = model.evaluate(X_test, y_test)\n",
    "print(\"Accuracy: %.2f%%\" % (score[1]*100))"
   ]
  },
  {
   "cell_type": "code",
   "execution_count": 51,
   "metadata": {},
   "outputs": [
    {
     "name": "stdout",
     "output_type": "stream",
     "text": [
      "Pred                LAYING  SITTING  STANDING  WALKING  WALKING_DOWNSTAIRS  \\\n",
      "True                                                                         \n",
      "LAYING                 513        3         0        0                   0   \n",
      "SITTING                  0      416        72        0                   0   \n",
      "STANDING                 0      114       415        3                   0   \n",
      "WALKING                  0        0         1      469                  25   \n",
      "WALKING_DOWNSTAIRS       0        0         0       11                 409   \n",
      "WALKING_UPSTAIRS         0        3         1       27                  16   \n",
      "\n",
      "Pred                WALKING_UPSTAIRS  \n",
      "True                                  \n",
      "LAYING                            21  \n",
      "SITTING                            3  \n",
      "STANDING                           0  \n",
      "WALKING                            1  \n",
      "WALKING_DOWNSTAIRS                 0  \n",
      "WALKING_UPSTAIRS                 424  \n"
     ]
    }
   ],
   "source": [
    "print(confusion_matrix(y_test, model.predict(X_test)))"
   ]
  },
  {
   "cell_type": "code",
   "execution_count": 52,
   "metadata": {},
   "outputs": [
    {
     "data": {
      "image/png": "[encoded data removed]",
      "text/plain": [
       "<Figure size 432x288 with 1 Axes>"
      ]
     },
     "metadata": {},
     "output_type": "display_data"
    }
   ],
   "source": [
    "fig,ax = plt.subplots(1,1)\n",
    "ax.set_xlabel('epoch')\n",
    "ax.set_ylabel('Categorical Crossentropy Loss')\n",
    "\n",
    "x = list(range(1,31))\n",
    "\n",
    "vy = model_5.history['val_loss']\n",
    "ty = model_5.history['loss']\n",
    "plt_dynamic(x, vy, ty, ax)"
   ]
  },
  {
   "cell_type": "markdown",
   "metadata": {},
   "source": [
    "## 6. LSTM with two layers(0.75 droupout)"
   ]
  },
  {
   "cell_type": "code",
   "execution_count": 56,
   "metadata": {},
   "outputs": [
    {
     "name": "stdout",
     "output_type": "stream",
     "text": [
      "_________________________________________________________________\n",
      "Layer (type)                 Output Shape              Param #   \n",
      "=================================================================\n",
      "lstm_15 (LSTM)               (None, 128, 64)           18944     \n",
      "_________________________________________________________________\n",
      "dropout_12 (Dropout)         (None, 128, 64)           0         \n",
      "_________________________________________________________________\n",
      "lstm_16 (LSTM)               (None, 32)                12416     \n",
      "_________________________________________________________________\n",
      "dropout_13 (Dropout)         (None, 32)                0         \n",
      "_________________________________________________________________\n",
      "dense_9 (Dense)              (None, 6)                 198       \n",
      "=================================================================\n",
      "Total params: 31,558\n",
      "Trainable params: 31,558\n",
      "Non-trainable params: 0\n",
      "_________________________________________________________________\n"
     ]
    }
   ],
   "source": [
    "model = Sequential()\n",
    "#Layer_1\n",
    "model.add(LSTM(64, return_sequences=True, input_shape=(timesteps, input_dim)))\n",
    "model.add(Dropout(0.75))\n",
    "#Layer_2\n",
    "model.add(LSTM(32))\n",
    "model.add(Dropout(0.75))\n",
    "model.add(Dense(n_classes, activation='sigmoid'))\n",
    "model.summary()\n",
    "\n",
    "model.compile(loss='categorical_crossentropy',\n",
    "              optimizer='rmsprop',\n",
    "              metrics=['accuracy'])"
   ]
  },
  {
   "cell_type": "code",
   "execution_count": 58,
   "metadata": {},
   "outputs": [
    {
     "name": "stdout",
     "output_type": "stream",
     "text": [
      "Train on 7352 samples, validate on 2947 samples\n",
      "Epoch 1/30\n",
      "7352/7352 [==============================] - 24s 3ms/step - loss: 1.2402 - acc: 0.5011 - val_loss: 1.1058 - val_acc: 0.5677\n",
      "Epoch 2/30\n",
      "7352/7352 [==============================] - 24s 3ms/step - loss: 1.1066 - acc: 0.5431 - val_loss: 0.9819 - val_acc: 0.6549\n",
      "Epoch 3/30\n",
      "7352/7352 [==============================] - 24s 3ms/step - loss: 1.0185 - acc: 0.5698 - val_loss: 0.8902 - val_acc: 0.6702\n",
      "Epoch 4/30\n",
      "7352/7352 [==============================] - 24s 3ms/step - loss: 0.9626 - acc: 0.5705 - val_loss: 0.8544 - val_acc: 0.6254\n",
      "Epoch 5/30\n",
      "7352/7352 [==============================] - 24s 3ms/step - loss: 0.9081 - acc: 0.5958 - val_loss: 0.8031 - val_acc: 0.6512\n",
      "Epoch 6/30\n",
      "7352/7352 [==============================] - 24s 3ms/step - loss: 0.8665 - acc: 0.6062 - val_loss: 0.7871 - val_acc: 0.6882\n",
      "Epoch 7/30\n",
      "7352/7352 [==============================] - 24s 3ms/step - loss: 0.8739 - acc: 0.6186 - val_loss: 1.2496 - val_acc: 0.5314\n",
      "Epoch 8/30\n",
      "7352/7352 [==============================] - 24s 3ms/step - loss: 0.8424 - acc: 0.6427 - val_loss: 0.7753 - val_acc: 0.6335\n",
      "Epoch 9/30\n",
      "7352/7352 [==============================] - 24s 3ms/step - loss: 0.7965 - acc: 0.6416 - val_loss: 0.7289 - val_acc: 0.7021\n",
      "Epoch 10/30\n",
      "7352/7352 [==============================] - 24s 3ms/step - loss: 0.7798 - acc: 0.6651 - val_loss: 0.7115 - val_acc: 0.6885\n",
      "Epoch 11/30\n",
      "7352/7352 [==============================] - 24s 3ms/step - loss: 0.7733 - acc: 0.6586 - val_loss: 0.7066 - val_acc: 0.6966\n",
      "Epoch 12/30\n",
      "7352/7352 [==============================] - 24s 3ms/step - loss: 0.7723 - acc: 0.6661 - val_loss: 0.6873 - val_acc: 0.7000\n",
      "Epoch 13/30\n",
      "7352/7352 [==============================] - 24s 3ms/step - loss: 0.7368 - acc: 0.6704 - val_loss: 0.6892 - val_acc: 0.7099\n",
      "Epoch 14/30\n",
      "7352/7352 [==============================] - 24s 3ms/step - loss: 0.7369 - acc: 0.6780 - val_loss: 0.6658 - val_acc: 0.6159\n",
      "Epoch 15/30\n",
      "7352/7352 [==============================] - 24s 3ms/step - loss: 0.7234 - acc: 0.6661 - val_loss: 0.6644 - val_acc: 0.6230\n",
      "Epoch 16/30\n",
      "7352/7352 [==============================] - 24s 3ms/step - loss: 0.7051 - acc: 0.6685 - val_loss: 0.6654 - val_acc: 0.6278\n",
      "Epoch 17/30\n",
      "7352/7352 [==============================] - 24s 3ms/step - loss: 0.6971 - acc: 0.6778 - val_loss: 0.7794 - val_acc: 0.6271\n",
      "Epoch 18/30\n",
      "7352/7352 [==============================] - 24s 3ms/step - loss: 0.6794 - acc: 0.6919 - val_loss: 0.6279 - val_acc: 0.6328\n",
      "Epoch 19/30\n",
      "7352/7352 [==============================] - 23s 3ms/step - loss: 0.6635 - acc: 0.7031 - val_loss: 0.5681 - val_acc: 0.6973\n",
      "Epoch 20/30\n",
      "7352/7352 [==============================] - 24s 3ms/step - loss: 0.6429 - acc: 0.7174 - val_loss: 0.6050 - val_acc: 0.7374\n",
      "Epoch 21/30\n",
      "7352/7352 [==============================] - 24s 3ms/step - loss: 0.6588 - acc: 0.7040 - val_loss: 0.6940 - val_acc: 0.6929\n",
      "Epoch 22/30\n",
      "7352/7352 [==============================] - 24s 3ms/step - loss: 0.6459 - acc: 0.7097 - val_loss: 0.6723 - val_acc: 0.6895\n",
      "Epoch 23/30\n",
      "7352/7352 [==============================] - 24s 3ms/step - loss: 0.6204 - acc: 0.7239 - val_loss: 0.7893 - val_acc: 0.7475\n",
      "Epoch 24/30\n",
      "7352/7352 [==============================] - 24s 3ms/step - loss: 0.5994 - acc: 0.7542 - val_loss: 0.5776 - val_acc: 0.8347\n",
      "Epoch 25/30\n",
      "7352/7352 [==============================] - 24s 3ms/step - loss: 0.6136 - acc: 0.7462 - val_loss: 0.6281 - val_acc: 0.7903\n",
      "Epoch 26/30\n",
      "7352/7352 [==============================] - 24s 3ms/step - loss: 0.5885 - acc: 0.7631 - val_loss: 0.5293 - val_acc: 0.8127\n",
      "Epoch 27/30\n",
      "7352/7352 [==============================] - 24s 3ms/step - loss: 0.6172 - acc: 0.7787 - val_loss: 0.5413 - val_acc: 0.8622\n",
      "Epoch 28/30\n",
      "7352/7352 [==============================] - 24s 3ms/step - loss: 0.5593 - acc: 0.8003 - val_loss: 0.5530 - val_acc: 0.8544\n",
      "Epoch 29/30\n",
      "7352/7352 [==============================] - 24s 3ms/step - loss: 0.5302 - acc: 0.8108 - val_loss: 0.5564 - val_acc: 0.8473\n",
      "Epoch 30/30\n",
      "7352/7352 [==============================] - 25s 3ms/step - loss: 0.5401 - acc: 0.8290 - val_loss: 0.4915 - val_acc: 0.8738\n",
      "2947/2947 [==============================] - 4s 1ms/step\n",
      "Accuracy: 87.38%\n"
     ]
    }
   ],
   "source": [
    "model_6 = model.fit(X_train, y_train, batch_size=128, validation_data=(X_test, y_test), epochs=30)\n",
    "score = model.evaluate(X_test, y_test)\n",
    "print(\"Accuracy: %.2f%%\" % (score[1]*100))"
   ]
  },
  {
   "cell_type": "code",
   "execution_count": 59,
   "metadata": {},
   "outputs": [
    {
     "name": "stdout",
     "output_type": "stream",
     "text": [
      "Pred                LAYING  SITTING  STANDING  WALKING  WALKING_DOWNSTAIRS  \\\n",
      "True                                                                         \n",
      "LAYING                 510        0         0        0                   0   \n",
      "SITTING                  6      382        99        4                   0   \n",
      "STANDING                 0       78       453        1                   0   \n",
      "WALKING                  0        0         0      467                  16   \n",
      "WALKING_DOWNSTAIRS       0        0         0       15                 370   \n",
      "WALKING_UPSTAIRS         0        0         0       35                  43   \n",
      "\n",
      "Pred                WALKING_UPSTAIRS  \n",
      "True                                  \n",
      "LAYING                            27  \n",
      "SITTING                            0  \n",
      "STANDING                           0  \n",
      "WALKING                           13  \n",
      "WALKING_DOWNSTAIRS                35  \n",
      "WALKING_UPSTAIRS                 393  \n"
     ]
    }
   ],
   "source": [
    "print(confusion_matrix(y_test, model.predict(X_test)))"
   ]
  },
  {
   "cell_type": "code",
   "execution_count": 60,
   "metadata": {},
   "outputs": [
    {
     "data": {
      "image/png": "[encoded data removed]",
      "text/plain": [
       "<Figure size 432x288 with 1 Axes>"
      ]
     },
     "metadata": {},
     "output_type": "display_data"
    }
   ],
   "source": [
    "fig,ax = plt.subplots(1,1)\n",
    "ax.set_xlabel('epoch')\n",
    "ax.set_ylabel('Categorical Crossentropy Loss')\n",
    "\n",
    "x = list(range(1,31))\n",
    "\n",
    "vy = model_6.history['val_loss']\n",
    "ty = model_6.history['loss']\n",
    "plt_dynamic(x, vy, ty, ax)"
   ]
  },
  {
   "cell_type": "markdown",
   "metadata": {},
   "source": [
    "# Conclusion"
   ]
  },
  {
   "cell_type": "markdown",
   "metadata": {},
   "source": [
    "1. Initially, we had two types of data. One with the expert engineering features and the other one is raw data.\n",
    "2. We've taken the raw data to apply Deep Learning models like LSTM, which is a type of RNN, on top of it.\n",
    "3. We've converted the raw data into 128 dimenssions vector from the 9 time series raw data of accelerometer and gyroscope readings.\n",
    "4. Later, we've tried various architechtures with different units, dropouts and layers of the LSTM networks on the Raw data.\n",
    "5. Even though we don't have a huge data, with the limited data we had, we got to see a best accuracy of 91.48% which is pretty good."
   ]
  },
  {
   "cell_type": "code",
   "execution_count": null,
   "metadata": {},
   "outputs": [],
   "source": []
  }
 ],
 "metadata": {
  "kernelspec": {
   "display_name": "Python 3",
   "language": "python",
   "name": "python3"
  },
  "language_info": {
   "codemirror_mode": {
    "name": "ipython",
    "version": 3
   },
   "file_extension": ".py",
   "mimetype": "text/x-python",
   "name": "python",
   "nbconvert_exporter": "python",
   "pygments_lexer": "ipython3",
   "version": "3.6.5"
  }
 },
 "nbformat": 4,
 "nbformat_minor": 2
}
